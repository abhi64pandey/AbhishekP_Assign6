{
 "cells": [
  {
   "cell_type": "code",
   "execution_count": null,
   "id": "3dc7998e",
   "metadata": {},
   "outputs": [],
   "source": [
    "Q1: What are escape characters, and how do you use them?\n",
    "\n",
    "Solution:\n",
    "    \n",
    "Escape characters represent characters in string values that would otherwise be difficult or impossible to type into code."
   ]
  },
  {
   "cell_type": "code",
   "execution_count": null,
   "id": "9ada930b",
   "metadata": {},
   "outputs": [],
   "source": [
    "Q2: What do the escape characters n and t stand for?\n",
    "\n",
    "Solution: \n",
    "    \n",
    "\\n is a newline; \\t is a tab."
   ]
  },
  {
   "cell_type": "code",
   "execution_count": null,
   "id": "9c123d60",
   "metadata": {},
   "outputs": [],
   "source": [
    "Q3: What is the way to include backslash characters in a string?\n",
    "    \n",
    "Solution:\n",
    "\n",
    "The \\\\ escape character will represent a backslash character."
   ]
  },
  {
   "cell_type": "code",
   "execution_count": null,
   "id": "c0b6e639",
   "metadata": {},
   "outputs": [],
   "source": [
    "Q4: The string \"Howl's Moving Castle\" is a correct value. \n",
    "    Why isn't the single quote character in the word Howl's not escaped a problem?\n",
    "    \n",
    "Solution:\n",
    "    \n",
    "The single quote in Howl's is fine because you’ve used double quotes to mark the beginning and end of the string."
   ]
  },
  {
   "cell_type": "code",
   "execution_count": null,
   "id": "77c94dd8",
   "metadata": {},
   "outputs": [],
   "source": [
    "Q5: How do you write a string of newlines if you don't want to use the n character?\n",
    "    \n",
    "Solution:\n",
    "    \n",
    "Multiline strings allow you to use newlines in strings without the \\n escape character."
   ]
  },
  {
   "cell_type": "code",
   "execution_count": null,
   "id": "628d6b13",
   "metadata": {},
   "outputs": [],
   "source": [
    "Q6: What are the values of the given expressions?\n",
    "'Hello, world!'[1]\n",
    "'Hello, world!'[0:5]\n",
    "'Hello, world!'[:5]\n",
    "'Hello, world!'[3:]\n",
    "\n",
    "Solution:\n",
    "    \n",
    "The expressions evaluate to the following:\n",
    "\n",
    "'e'\n",
    "'Hello'\n",
    "'Hello'\n",
    "'lo, world!"
   ]
  },
  {
   "cell_type": "code",
   "execution_count": null,
   "id": "104db192",
   "metadata": {},
   "outputs": [],
   "source": [
    "Q7: What are the values of the following expressions?\n",
    "'Hello'.upper()\n",
    "'Hello'.upper().isupper()\n",
    "'Hello'.upper().lower()\n",
    "\n",
    "Solution:\n",
    "    \n",
    "The expressions evaluate to the following:\n",
    "\n",
    "'HELLO'\n",
    "True\n",
    "'hello'"
   ]
  },
  {
   "cell_type": "code",
   "execution_count": null,
   "id": "4ee7a4e7",
   "metadata": {},
   "outputs": [],
   "source": [
    "Q8: What are the values of the following expressions?\n",
    "'Remember, remember, the fifth of July.'.split()\n",
    "'-'.join('There can only one.'.split())\n",
    "\n",
    "Solution:\n",
    "    \n",
    "['Remember,', 'remember,', 'the', 'fifth', 'of', 'July.']\n",
    "'There-can-be-only-one.'"
   ]
  },
  {
   "cell_type": "code",
   "execution_count": null,
   "id": "59dfe4df",
   "metadata": {},
   "outputs": [],
   "source": [
    "Q9: What are the methods for right-justifying, left-justifying, and centering a string?\n",
    "    \n",
    "Solution:\n",
    "    \n",
    "The rjust(), ljust(), and center() string methods, respectively"
   ]
  },
  {
   "cell_type": "code",
   "execution_count": null,
   "id": "ca8dc0f1",
   "metadata": {},
   "outputs": [],
   "source": [
    "Q10: What is the best way to remove whitespace characters from the start or end?\n",
    "\n",
    "Solution:\n",
    "    \n",
    "The lstrip() and rstrip() methods remove whitespace from the left and right ends of a string, respectively."
   ]
  }
 ],
 "metadata": {
  "kernelspec": {
   "display_name": "Python 3 (ipykernel)",
   "language": "python",
   "name": "python3"
  },
  "language_info": {
   "codemirror_mode": {
    "name": "ipython",
    "version": 3
   },
   "file_extension": ".py",
   "mimetype": "text/x-python",
   "name": "python",
   "nbconvert_exporter": "python",
   "pygments_lexer": "ipython3",
   "version": "3.9.7"
  }
 },
 "nbformat": 4,
 "nbformat_minor": 5
}
